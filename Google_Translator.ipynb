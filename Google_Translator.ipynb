{
 "cells": [
  {
   "cell_type": "code",
   "execution_count": 1,
   "metadata": {},
   "outputs": [],
   "source": [
    "from googletrans import Translator"
   ]
  },
  {
   "cell_type": "code",
   "execution_count": 2,
   "metadata": {},
   "outputs": [],
   "source": [
    "translator = Translator()"
   ]
  },
  {
   "cell_type": "code",
   "execution_count": 3,
   "metadata": {},
   "outputs": [],
   "source": [
    "hindi = []\n",
    "english = []\n",
    "eng_to_hi = True\n",
    "if eng_to_hi:\n",
    "    \n",
    "    english.append('Mahatma Gandhi')\n",
    "    english.append('Indian Constitution')\n",
    "    english.append('Baahubali')\n",
    "    english.append('Football')\n",
    "    english.append('Awkward')\n",
    "else:\n",
    "    hindi.append('')\n",
    "\n",
    "translations = translator.translate(english, dest = \"hi\")\n",
    "\n",
    "for translation in translations:\n",
    "    if eng_to_hi:\n",
    "        hindi.append(translation.text)\n",
    "    else:\n",
    "        english.append(translation.text)"
   ]
  },
  {
   "cell_type": "code",
   "execution_count": 4,
   "metadata": {},
   "outputs": [
    {
     "data": {
      "text/plain": [
       "['महात्मा गांधी', 'भारतीय संविधान', 'बाहुबली', 'फ़ुटबॉल', 'भद्दा']"
      ]
     },
     "execution_count": 4,
     "metadata": {},
     "output_type": "execute_result"
    }
   ],
   "source": [
    "hindi"
   ]
  },
  {
   "cell_type": "code",
   "execution_count": null,
   "metadata": {},
   "outputs": [],
   "source": []
  },
  {
   "cell_type": "code",
   "execution_count": null,
   "metadata": {},
   "outputs": [],
   "source": []
  }
 ],
 "metadata": {
  "kernelspec": {
   "display_name": "mini",
   "language": "python",
   "name": "mini"
  },
  "language_info": {
   "codemirror_mode": {
    "name": "ipython",
    "version": 3
   },
   "file_extension": ".py",
   "mimetype": "text/x-python",
   "name": "python",
   "nbconvert_exporter": "python",
   "pygments_lexer": "ipython3",
   "version": "3.7.9"
  }
 },
 "nbformat": 4,
 "nbformat_minor": 4
}
