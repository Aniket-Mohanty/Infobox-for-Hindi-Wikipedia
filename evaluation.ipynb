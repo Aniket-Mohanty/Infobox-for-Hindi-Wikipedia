{
 "cells": [
  {
   "cell_type": "code",
   "execution_count": 34,
   "metadata": {},
   "outputs": [],
   "source": [
    "import pickle\n",
    "import numpy as np\n",
    "import matplotlib.pyplot as plt"
   ]
  },
  {
   "cell_type": "code",
   "execution_count": 13,
   "metadata": {},
   "outputs": [],
   "source": [
    "with open('film_infoboxes_baseline.pkl', 'rb') as handle:\n",
    "    baseline_infobox_dict = pickle.load(handle)"
   ]
  },
  {
   "cell_type": "code",
   "execution_count": 14,
   "metadata": {},
   "outputs": [],
   "source": [
    "with open('film_infoboxes_gt_english.pkl', 'rb') as handle:\n",
    "    gt_infobox_dict = pickle.load(handle)"
   ]
  },
  {
   "cell_type": "code",
   "execution_count": 15,
   "metadata": {},
   "outputs": [],
   "source": [
    "with open('film_infoboxes_english_wikidata.pkl', 'rb') as handle:\n",
    "    wikidata_infobox_dict = pickle.load(handle)"
   ]
  },
  {
   "cell_type": "code",
   "execution_count": 16,
   "metadata": {},
   "outputs": [],
   "source": [
    "baseline_pages = list(baseline_infobox_dict.keys())\n",
    "gt_pages = list(gt_infobox_dict.keys())\n",
    "wikidata_pages = list(wikidata_infobox_dict.keys())"
   ]
  },
  {
   "cell_type": "code",
   "execution_count": 28,
   "metadata": {},
   "outputs": [],
   "source": [
    "valid_pages = [baseline_pages,gt_pages,wikidata_pages]\n",
    "res = set(valid_pages[0]).intersection(*valid_pages)\n",
    "valid_pages = list(res)"
   ]
  },
  {
   "cell_type": "code",
   "execution_count": 78,
   "metadata": {},
   "outputs": [],
   "source": [
    "def pair_splitter(pair_list):\n",
    "    key_list = []\n",
    "    value_list = []\n",
    "    for pair in pair_list:\n",
    "        key = pair.split(' = ')[0]\n",
    "        value = pair.split(' = ')[1]\n",
    "        if key and value:\n",
    "            key_list.append(key)\n",
    "            value_list.append(value)\n",
    "    return key_list, value_list\n",
    "\n",
    "def precision_keys(model_keys, ground_keys):\n",
    "    true_positive = 0\n",
    "    for key in ground_keys:\n",
    "        if key in model_keys:\n",
    "            true_positive += 1\n",
    "    precision = true_positive/(len(ground_keys))\n",
    "    return precision\n",
    "\n",
    "def precision_values(model_values, ground_values):\n",
    "    model_bag = []\n",
    "    ground_bag = []\n",
    "    \n",
    "    for value_str in model_values:\n",
    "        str_entries = value_str.split(\",\")\n",
    "        for entry in str_entries:\n",
    "            words = entry.split(\" \")\n",
    "            for word in words:\n",
    "                model_bag.append(word.lower())\n",
    "    \n",
    "    for value_str in ground_values:\n",
    "        str_entries = value_str.split(\",\")\n",
    "        for entry in str_entries:\n",
    "            words = entry.split(\" \")\n",
    "            for word in words:\n",
    "                ground_bag.append(word.lower())\n",
    "#     print(model_bag)\n",
    "#     print(ground_bag)\n",
    "    true_positive = 0\n",
    "    for key in ground_bag:\n",
    "        if key.lower() in model_bag:\n",
    "            true_positive += 1\n",
    "#     precision = true_positive/(0.5*(len(ground_bag) + len(model_bag)))\n",
    "#     precision = true_positive/((len(ground_bag)*len(model_bag))**0.5)\n",
    "#     precision = true_positive/(2*1/(1/len(ground_bag) + 1/len(model_bag)))\n",
    "    precision = true_positive/len(ground_bag)\n",
    "    return precision, len(model_bag)/len(ground_bag)"
   ]
  },
  {
   "cell_type": "code",
   "execution_count": 79,
   "metadata": {},
   "outputs": [],
   "source": [
    "baseline_keys_prec = {}\n",
    "baseline_vals_prec = {}\n",
    "wikidata_keys_prec = {}\n",
    "wikidata_vals_prec = {}\n",
    "base_ratio_list = []\n",
    "wiki_ratio_list = []\n",
    "for key in valid_pages:\n",
    "    baseline = baseline_infobox_dict[key]\n",
    "    wikidata = wikidata_infobox_dict[key]\n",
    "    ground = gt_infobox_dict[key]\n",
    "    \n",
    "    base_keys, base_values = pair_splitter(baseline)\n",
    "    wikidata_keys, wikidata_values = pair_splitter(wikidata)\n",
    "    ground_keys, ground_values = pair_splitter(ground)\n",
    "    \n",
    "    baseline_keys_prec[key] = precision_keys(base_keys, ground_keys)\n",
    "    baseline_vals_prec[key],tmp = precision_values(base_values, ground_values)\n",
    "    base_ratio_list.append(tmp)\n",
    "    \n",
    "    wikidata_keys_prec[key] = precision_keys(wikidata_keys, ground_keys)\n",
    "    wikidata_vals_prec[key],tmp = precision_values(wikidata_values, ground_values)\n",
    "    wiki_ratio_list.append(tmp)"
   ]
  },
  {
   "cell_type": "code",
   "execution_count": 80,
   "metadata": {},
   "outputs": [
    {
     "name": "stdout",
     "output_type": "stream",
     "text": [
      "baseline keys average precision:  0.00643558484689089\n",
      "baseline vals average precision:  0.12258031226219927\n",
      "wikidata keys average precision:  0.5254712021109224\n",
      "wikidata vals average precision:  0.37045765800597474\n"
     ]
    }
   ],
   "source": [
    "print('baseline keys average precision: ',np.mean(list(baseline_keys_prec.values())))\n",
    "print('baseline vals average precision: ',np.mean(list(baseline_vals_prec.values())))\n",
    "print('wikidata keys average precision: ',np.mean(list(wikidata_keys_prec.values())))\n",
    "print('wikidata vals average precision: ',np.mean(list(wikidata_vals_prec.values())))"
   ]
  },
  {
   "cell_type": "code",
   "execution_count": 65,
   "metadata": {},
   "outputs": [
    {
     "data": {
      "text/plain": [
       "<BarContainer object of 162 artists>"
      ]
     },
     "execution_count": 65,
     "metadata": {},
     "output_type": "execute_result"
    },
    {
     "data": {
      "image/png": "[encoded data removed]",
      "text/plain": [
       "<Figure size 432x288 with 1 Axes>"
      ]
     },
     "metadata": {
      "needs_background": "light"
     },
     "output_type": "display_data"
    }
   ],
   "source": [
    "plt.bar(list(baseline_keys_prec.keys()),base_ratio_list)"
   ]
  },
  {
   "cell_type": "code",
   "execution_count": 68,
   "metadata": {},
   "outputs": [
    {
     "data": {
      "text/plain": [
       "<BarContainer object of 162 artists>"
      ]
     },
     "execution_count": 68,
     "metadata": {},
     "output_type": "execute_result"
    },
    {
     "data": {
      "image/png": "[encoded data removed]",
      "text/plain": [
       "<Figure size 432x288 with 1 Axes>"
      ]
     },
     "metadata": {
      "needs_background": "light"
     },
     "output_type": "display_data"
    }
   ],
   "source": [
    "plt.bar(list(wikidata_keys_prec.keys()),wiki_ratio_list)"
   ]
  },
  {
   "cell_type": "code",
   "execution_count": 60,
   "metadata": {},
   "outputs": [
    {
     "data": {
      "text/plain": [
       "<BarContainer object of 162 artists>"
      ]
     },
     "execution_count": 60,
     "metadata": {},
     "output_type": "execute_result"
    },
    {
     "data": {
      "image/png": "[encoded data removed]",
      "text/plain": [
       "<Figure size 432x288 with 1 Axes>"
      ]
     },
     "metadata": {
      "needs_background": "light"
     },
     "output_type": "display_data"
    }
   ],
   "source": [
    "plt.bar(list(baseline_keys_prec.keys()),list(baseline_keys_prec.values()))"
   ]
  },
  {
   "cell_type": "code",
   "execution_count": 57,
   "metadata": {},
   "outputs": [
    {
     "data": {
      "text/plain": [
       "<BarContainer object of 162 artists>"
      ]
     },
     "execution_count": 57,
     "metadata": {},
     "output_type": "execute_result"
    },
    {
     "data": {
      "image/png": "[encoded data removed]",
      "text/plain": [
       "<Figure size 432x288 with 1 Axes>"
      ]
     },
     "metadata": {
      "needs_background": "light"
     },
     "output_type": "display_data"
    }
   ],
   "source": [
    "plt.bar(list(baseline_vals_prec.keys()),list(baseline_vals_prec.values()))"
   ]
  },
  {
   "cell_type": "code",
   "execution_count": 58,
   "metadata": {},
   "outputs": [
    {
     "data": {
      "text/plain": [
       "<BarContainer object of 162 artists>"
      ]
     },
     "execution_count": 58,
     "metadata": {},
     "output_type": "execute_result"
    },
    {
     "data": {
      "image/png": "[encoded data removed]",
      "text/plain": [
       "<Figure size 432x288 with 1 Axes>"
      ]
     },
     "metadata": {
      "needs_background": "light"
     },
     "output_type": "display_data"
    }
   ],
   "source": [
    "plt.bar(list(wikidata_keys_prec.keys()),list(wikidata_keys_prec.values()))"
   ]
  },
  {
   "cell_type": "code",
   "execution_count": 59,
   "metadata": {},
   "outputs": [
    {
     "data": {
      "text/plain": [
       "<BarContainer object of 162 artists>"
      ]
     },
     "execution_count": 59,
     "metadata": {},
     "output_type": "execute_result"
    },
    {
     "data": {
      "image/png": "[encoded data removed]",
      "text/plain": [
       "<Figure size 432x288 with 1 Axes>"
      ]
     },
     "metadata": {
      "needs_background": "light"
     },
     "output_type": "display_data"
    }
   ],
   "source": [
    "plt.bar(list(wikidata_vals_prec.keys()),list(wikidata_vals_prec.values()))"
   ]
  },
  {
   "cell_type": "code",
   "execution_count": 4,
   "metadata": {},
   "outputs": [],
   "source": [
    "base_keys, base_values = pair_splitter(baseline)\n",
    "wikidata_keys, wikidata_values = pair_splitter(wikidata)\n",
    "ground_keys, ground_values = pair_splitter(ground)"
   ]
  },
  {
   "cell_type": "code",
   "execution_count": 5,
   "metadata": {},
   "outputs": [
    {
     "name": "stdout",
     "output_type": "stream",
     "text": [
      "Precision of Keys for baseline: 0.05263157894736842\n",
      "Precision of Values for baseline: 0.3076923076923077\n"
     ]
    }
   ],
   "source": [
    "prec_keys=precision_keys(base_keys, ground_keys)\n",
    "prec_values=precision_values(base_values, ground_values)\n",
    "print('Precision of Keys for baseline:', prec_keys)\n",
    "print('Precision of Values for baseline:', prec_values)"
   ]
  },
  {
   "cell_type": "code",
   "execution_count": 6,
   "metadata": {},
   "outputs": [
    {
     "name": "stdout",
     "output_type": "stream",
     "text": [
      "Precision of Keys for our Model: 0.7857142857142857\n",
      "Precision of Values for our Model: 0.8181818181818182\n"
     ]
    }
   ],
   "source": [
    "prec_keys=precision_keys(wikidata_keys, ground_keys)\n",
    "prec_values=precision_values(wikidata_values, ground_values)\n",
    "print('Precision of Keys for our Model:', prec_keys)\n",
    "print('Precision of Values for our Model:', prec_values)"
   ]
  },
  {
   "cell_type": "code",
   "execution_count": 7,
   "metadata": {},
   "outputs": [
    {
     "name": "stdout",
     "output_type": "stream",
     "text": [
      "Precision of Keys for our Model: 1.0\n",
      "Precision of Values for our Model: 1.0\n"
     ]
    }
   ],
   "source": [
    "prec_keys=precision_keys(ground_keys, ground_keys)\n",
    "prec_values=precision_values(ground_values, ground_values)\n",
    "print('Precision of Keys for our Model:', prec_keys)\n",
    "print('Precision of Values for our Model:', prec_values)"
   ]
  }
 ],
 "metadata": {
  "kernelspec": {
   "display_name": "ire",
   "language": "python",
   "name": "ire"
  },
  "language_info": {
   "codemirror_mode": {
    "name": "ipython",
    "version": 3
   },
   "file_extension": ".py",
   "mimetype": "text/x-python",
   "name": "python",
   "nbconvert_exporter": "python",
   "pygments_lexer": "ipython3",
   "version": "3.7.9"
  }
 },
 "nbformat": 4,
 "nbformat_minor": 4
}
