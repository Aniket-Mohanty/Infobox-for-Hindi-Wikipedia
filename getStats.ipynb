{
 "cells": [
  {
   "cell_type": "code",
   "execution_count": 47,
   "metadata": {},
   "outputs": [],
   "source": [
    "import pickle\n",
    "from collections import defaultdict"
   ]
  },
  {
   "cell_type": "code",
   "execution_count": 50,
   "metadata": {},
   "outputs": [],
   "source": [
    "stats = defaultdict(list)\n",
    "\n",
    "for i in range(1457):\n",
    "    \n",
    "    with open('./stats/' + 'instance_' + str(i) + '.pkl', 'rb') as f:\n",
    "        data = pickle.load(f)\n",
    "    \n",
    "    for key in data:\n",
    "        stats[key].extend(data[key])"
   ]
  },
  {
   "cell_type": "code",
   "execution_count": 51,
   "metadata": {},
   "outputs": [
    {
     "name": "stdout",
     "output_type": "stream",
     "text": [
      "Instances considered :- \n",
      "film\n",
      "short film\n",
      "animated feature film\n",
      "television film\n",
      "feature film\n",
      "silent short film\n",
      "animated film\n",
      "3D film\n",
      "cult film\n",
      "anthology film\n",
      "\n",
      "Total film pages:  4872\n",
      "Film no infobox:  1507\n"
     ]
    }
   ],
   "source": [
    "total_count = 0\n",
    "noinfo_count = 0\n",
    "print('Instances considered :- ')\n",
    "for key in stats:\n",
    "    if('film' in key[-4:]):\n",
    "        print(key)\n",
    "        for val in stats[key]:\n",
    "            if(val['infobox'] == 0):\n",
    "                noinfo_count += 1\n",
    "        total_count += len(stats[key])\n",
    "print('\\nTotal film pages: ',total_count)\n",
    "print('Film no infobox: ',noinfo_count)"
   ]
  },
  {
   "cell_type": "code",
   "execution_count": 55,
   "metadata": {},
   "outputs": [
    {
     "name": "stdout",
     "output_type": "stream",
     "text": [
      "Instances considered :- \n",
      "type of sport\n",
      "sport\n",
      "dog sport\n",
      "fictional sport\n",
      "individual sport\n",
      "winter sport\n",
      "mind sport\n",
      "\n",
      "Total sports pages:  63\n",
      "Sports no infobox:  48\n"
     ]
    }
   ],
   "source": [
    "total_count = 0\n",
    "noinfo_count = 0\n",
    "print('Instances considered :- ')\n",
    "for key in stats:\n",
    "    if('sport' in key[-5:] and 'transport' not in key):\n",
    "        print(key)\n",
    "        for val in stats[key]:\n",
    "            if(val['infobox'] == 0):\n",
    "                noinfo_count += 1\n",
    "        total_count += len(stats[key])\n",
    "print('\\nTotal sports pages: ',total_count)\n",
    "print('Sports no infobox: ',noinfo_count)"
   ]
  },
  {
   "cell_type": "code",
   "execution_count": 54,
   "metadata": {},
   "outputs": [],
   "source": []
  },
  {
   "cell_type": "code",
   "execution_count": null,
   "metadata": {},
   "outputs": [],
   "source": []
  }
 ],
 "metadata": {
  "kernelspec": {
   "display_name": "Python 3",
   "language": "python",
   "name": "python3"
  },
  "language_info": {
   "codemirror_mode": {
    "name": "ipython",
    "version": 3
   },
   "file_extension": ".py",
   "mimetype": "text/x-python",
   "name": "python",
   "nbconvert_exporter": "python",
   "pygments_lexer": "ipython3",
   "version": "3.7.7"
  }
 },
 "nbformat": 4,
 "nbformat_minor": 4
}
